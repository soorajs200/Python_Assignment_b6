{
  "cells": [
    {
      "cell_type": "markdown",
      "id": "d2328cad",
      "metadata": {
        "id": "d2328cad"
      },
      "source": [
        "# Python Basics Assignment"
      ]
    },
    {
      "cell_type": "markdown",
      "id": "cb537954",
      "metadata": {
        "id": "cb537954"
      },
      "source": [
        "### Question 1\n",
        "Write a function to compute number of vowels in a string given as input"
      ]
    },
    {
      "cell_type": "code",
      "execution_count": 124,
      "id": "cf213ba2",
      "metadata": {
        "colab": {
          "base_uri": "https://localhost:8080/"
        },
        "id": "cf213ba2",
        "outputId": "eacbf4fe-f79d-4361-d604-e0465cec552d"
      },
      "outputs": [
        {
          "output_type": "stream",
          "name": "stdout",
          "text": [
            "Enter a string:sooraj\n",
            "3\n"
          ]
        }
      ],
      "source": [
        "def vowels(a):\n",
        "    a = input(\"Enter a string:\")\n",
        "    vowels = \"aeiouAEIOU\"\n",
        "    count = 0\n",
        "    for i in a:\n",
        "        if i in vowels:\n",
        "            count += 1\n",
        "    return count\n",
        "print(vowels(\"a\"))"
      ]
    },
    {
      "cell_type": "markdown",
      "id": "4eaff430",
      "metadata": {
        "id": "4eaff430"
      },
      "source": [
        "### Question 2\n",
        "Write a function that checks whether a number is prime."
      ]
    },
    {
      "cell_type": "code",
      "execution_count": 14,
      "id": "81934cf7",
      "metadata": {
        "colab": {
          "base_uri": "https://localhost:8080/"
        },
        "id": "81934cf7",
        "outputId": "ee32718f-70e8-4bbe-afd7-43a73dd8188d"
      },
      "outputs": [
        {
          "output_type": "stream",
          "name": "stdout",
          "text": [
            "prime\n"
          ]
        }
      ],
      "source": [
        "# Your code here\n",
        "def prime(a):\n",
        "  if a <= 1:\n",
        "    return False\n",
        "  for i in range(2,int((a**0.5)+1)):\n",
        "    if a % i == 0:\n",
        "      return False\n",
        "  return True\n",
        "if(prime(5)):\n",
        "  print(\"prime\")\n",
        "else:\n",
        "  print(\"not prime\")"
      ]
    },
    {
      "cell_type": "markdown",
      "id": "5f061e50",
      "metadata": {
        "id": "5f061e50"
      },
      "source": [
        "### Question 3\n",
        "Write a function to return the maximum of two numbers."
      ]
    },
    {
      "cell_type": "code",
      "execution_count": 15,
      "id": "44e2a596",
      "metadata": {
        "colab": {
          "base_uri": "https://localhost:8080/"
        },
        "id": "44e2a596",
        "outputId": "feab6b38-fbe4-4719-e5cf-86070939ffc0"
      },
      "outputs": [
        {
          "output_type": "execute_result",
          "data": {
            "text/plain": [
              "5"
            ]
          },
          "metadata": {},
          "execution_count": 15
        }
      ],
      "source": [
        "# Your code here\n",
        "def maximum(a,b):\n",
        "  if a>b:\n",
        "    return a\n",
        "  else:\n",
        "    return b\n",
        "maximum(3,5)"
      ]
    },
    {
      "cell_type": "markdown",
      "id": "7513ca91",
      "metadata": {
        "id": "7513ca91"
      },
      "source": [
        "### Question 4\n",
        "Write a function to return the factorial of a number."
      ]
    },
    {
      "cell_type": "code",
      "execution_count": 17,
      "id": "6617842f",
      "metadata": {
        "colab": {
          "base_uri": "https://localhost:8080/"
        },
        "id": "6617842f",
        "outputId": "d70a9ac1-09c9-4d26-aeab-155bbb3efdea"
      },
      "outputs": [
        {
          "output_type": "execute_result",
          "data": {
            "text/plain": [
              "120"
            ]
          },
          "metadata": {},
          "execution_count": 17
        }
      ],
      "source": [
        "# Your code here\n",
        "def factorial(n):\n",
        "  fact=1\n",
        "  for i in range (1,n+1):\n",
        "    fact=fact*i\n",
        "  return fact\n",
        "factorial(5)"
      ]
    },
    {
      "cell_type": "markdown",
      "id": "9b942098",
      "metadata": {
        "id": "9b942098"
      },
      "source": [
        "### Question 5\n",
        "Write a function to reverse a string without string indexing."
      ]
    },
    {
      "cell_type": "code",
      "execution_count": 24,
      "id": "d606b194",
      "metadata": {
        "colab": {
          "base_uri": "https://localhost:8080/"
        },
        "id": "d606b194",
        "outputId": "9e36d70a-f03c-41dc-f09a-2b69555209f7"
      },
      "outputs": [
        {
          "output_type": "stream",
          "name": "stdout",
          "text": [
            "iiah\n"
          ]
        }
      ],
      "source": [
        "def reverse(ab):\n",
        "    reversed_str = \"\"\n",
        "    for i in range(len(ab) - 1, -1, -1):\n",
        "        reversed_str += ab[i]\n",
        "    return reversed_str\n",
        "\n",
        "fg = \"haii\"\n",
        "print(reverse(fg))\n"
      ]
    },
    {
      "cell_type": "markdown",
      "id": "1abd915b",
      "metadata": {
        "id": "1abd915b"
      },
      "source": [
        "### Question 6\n",
        "Write a function to check if a string is a palindrome."
      ]
    },
    {
      "cell_type": "code",
      "execution_count": 27,
      "id": "2b868fb3",
      "metadata": {
        "colab": {
          "base_uri": "https://localhost:8080/"
        },
        "id": "2b868fb3",
        "outputId": "b02c735e-49ae-433d-ff2b-4d628cef5f90"
      },
      "outputs": [
        {
          "output_type": "execute_result",
          "data": {
            "text/plain": [
              "True"
            ]
          },
          "metadata": {},
          "execution_count": 27
        }
      ],
      "source": [
        "# Your code here\n",
        "def palindrome(ab):\n",
        "  if reverse(ab)==ab:\n",
        "    return True\n",
        "  else:\n",
        "    return False\n",
        "\n",
        "hj=\"malayalam\"\n",
        "palindrome(hj)\n"
      ]
    },
    {
      "cell_type": "markdown",
      "id": "5f2f3791",
      "metadata": {
        "id": "5f2f3791"
      },
      "source": [
        "### Question 7\n",
        "Write a function to count vowels in a string."
      ]
    },
    {
      "cell_type": "code",
      "execution_count": 30,
      "id": "73fefa50",
      "metadata": {
        "colab": {
          "base_uri": "https://localhost:8080/"
        },
        "id": "73fefa50",
        "outputId": "5a18690a-64e6-4a1f-bffd-9ec0655d9106"
      },
      "outputs": [
        {
          "output_type": "execute_result",
          "data": {
            "text/plain": [
              "4"
            ]
          },
          "metadata": {},
          "execution_count": 30
        }
      ],
      "source": [
        "# Your code here\n",
        "def vowel_cnt(ab):\n",
        "  vowels=\"aeiouAEIOU\"\n",
        "  count=0\n",
        "  for char in ab:\n",
        "    if char in vowels:\n",
        "      count+=1\n",
        "  return count\n",
        "\n",
        "vowel_cnt(hj)"
      ]
    },
    {
      "cell_type": "markdown",
      "id": "0d3a9996",
      "metadata": {
        "id": "0d3a9996"
      },
      "source": [
        "### Question 8\n",
        "Write a function that returns the sum of a list."
      ]
    },
    {
      "cell_type": "code",
      "execution_count": 35,
      "id": "ab6afc66",
      "metadata": {
        "colab": {
          "base_uri": "https://localhost:8080/"
        },
        "id": "ab6afc66",
        "outputId": "bc01dcec-b614-418c-b9b9-579c13131e1f"
      },
      "outputs": [
        {
          "output_type": "execute_result",
          "data": {
            "text/plain": [
              "15"
            ]
          },
          "metadata": {},
          "execution_count": 35
        }
      ],
      "source": [
        "\n",
        "def sum_lst(ls):\n",
        "  sum=0\n",
        "  for i in ls:\n",
        "    sum += i\n",
        "  return sum\n",
        "ab=[1,2,3,4,5]\n",
        "sum_lst(ab)"
      ]
    },
    {
      "cell_type": "markdown",
      "id": "f6682500",
      "metadata": {
        "id": "f6682500"
      },
      "source": [
        "### Question 9\n",
        "Write a function to find the smallest number in a list."
      ]
    },
    {
      "cell_type": "code",
      "execution_count": 40,
      "id": "6798a641",
      "metadata": {
        "colab": {
          "base_uri": "https://localhost:8080/"
        },
        "id": "6798a641",
        "outputId": "f853c102-5ddc-40ba-d364-5139e075ce5b"
      },
      "outputs": [
        {
          "output_type": "execute_result",
          "data": {
            "text/plain": [
              "1"
            ]
          },
          "metadata": {},
          "execution_count": 40
        }
      ],
      "source": [
        "def smallest_num(ls):\n",
        "  smallest=ls[0]\n",
        "  for i in ls:\n",
        "    if i < smallest:\n",
        "      smallest=i\n",
        "  return smallest\n",
        "ab=[1,2,3,4,5]\n",
        "smallest_num(ab)"
      ]
    },
    {
      "cell_type": "markdown",
      "id": "fb11e683",
      "metadata": {
        "id": "fb11e683"
      },
      "source": [
        "### Question 10\n",
        "Write a function to remove duplicates from a list."
      ]
    },
    {
      "cell_type": "code",
      "execution_count": 46,
      "id": "7c53f88c",
      "metadata": {
        "colab": {
          "base_uri": "https://localhost:8080/"
        },
        "id": "7c53f88c",
        "outputId": "dc62e4f9-0b8c-490a-bee2-6a9522717da7"
      },
      "outputs": [
        {
          "output_type": "execute_result",
          "data": {
            "text/plain": [
              "[1, 2, 3, 4, 5]"
            ]
          },
          "metadata": {},
          "execution_count": 46
        }
      ],
      "source": [
        "# Your code here\n",
        "def duplicates(lst):\n",
        "  lst1=[]\n",
        "  for i in lst:\n",
        "    if i not in lst1:\n",
        "      lst1.append(i)\n",
        "  return lst1\n",
        "gi=[1,2,3,3,4,4,5]\n",
        "duplicates(gi)"
      ]
    },
    {
      "cell_type": "markdown",
      "id": "9c380a5c",
      "metadata": {
        "id": "9c380a5c"
      },
      "source": [
        "### Question 11\n",
        "Write a function to sort a list in ascending order without using builtin sort function"
      ]
    },
    {
      "cell_type": "code",
      "execution_count": 48,
      "id": "8e43832f",
      "metadata": {
        "colab": {
          "base_uri": "https://localhost:8080/"
        },
        "id": "8e43832f",
        "outputId": "a53d8766-f855-4044-a69c-542126d0b440"
      },
      "outputs": [
        {
          "output_type": "execute_result",
          "data": {
            "text/plain": [
              "[1, 2, 5, 6, 8, 9]"
            ]
          },
          "metadata": {},
          "execution_count": 48
        }
      ],
      "source": [
        "def sorting_2(lst):\n",
        "    n = len(lst)\n",
        "    for i in range(n):\n",
        "        for j in range(0, n - i - 1):\n",
        "            if lst[j] > lst[j + 1]:\n",
        "                temp = lst[j]\n",
        "                lst[j] = lst[j + 1]\n",
        "                lst[j + 1] = temp\n",
        "    return lst\n",
        "ab=[5,6,2,8,9,1]\n",
        "sorting_2(ab)"
      ]
    },
    {
      "cell_type": "markdown",
      "id": "1270c91c",
      "metadata": {
        "id": "1270c91c"
      },
      "source": [
        "### Question 12\n",
        "Write a function that returns the length of a string."
      ]
    },
    {
      "cell_type": "code",
      "execution_count": 49,
      "id": "87f35472",
      "metadata": {
        "colab": {
          "base_uri": "https://localhost:8080/"
        },
        "id": "87f35472",
        "outputId": "01af0aad-68dc-4398-b00f-ca237d9692c2"
      },
      "outputs": [
        {
          "output_type": "execute_result",
          "data": {
            "text/plain": [
              "8"
            ]
          },
          "metadata": {},
          "execution_count": 49
        }
      ],
      "source": [
        "# Your code here\n",
        "def length(string1):\n",
        "    n=len(string1)\n",
        "    return n\n",
        "ab=\"haihello\"\n",
        "length(ab)\n"
      ]
    },
    {
      "cell_type": "markdown",
      "id": "9a8e3d28",
      "metadata": {
        "id": "9a8e3d28"
      },
      "source": [
        "### Question 13\n",
        "Write a function to count words in a sentence."
      ]
    },
    {
      "cell_type": "code",
      "execution_count": 54,
      "id": "e6f996ef",
      "metadata": {
        "colab": {
          "base_uri": "https://localhost:8080/"
        },
        "id": "e6f996ef",
        "outputId": "055a50e6-4ac6-4566-b442-3b31e91634c7"
      },
      "outputs": [
        {
          "output_type": "execute_result",
          "data": {
            "text/plain": [
              "4"
            ]
          },
          "metadata": {},
          "execution_count": 54
        }
      ],
      "source": [
        "# Your code here\n",
        "def count_words(str):\n",
        "    str1=str.split(\" \")\n",
        "    return len(str1)\n",
        "ab=\"there is a chance\"\n",
        "count_words(ab)"
      ]
    },
    {
      "cell_type": "markdown",
      "id": "430c2e4a",
      "metadata": {
        "id": "430c2e4a"
      },
      "source": [
        "### Question 14\n",
        "Write a function to convert Celsius to Fahrenheit."
      ]
    },
    {
      "cell_type": "code",
      "execution_count": 55,
      "id": "b710b0bd",
      "metadata": {
        "colab": {
          "base_uri": "https://localhost:8080/"
        },
        "id": "b710b0bd",
        "outputId": "038a37d7-306f-43ae-f077-8328e9ce8da6"
      },
      "outputs": [
        {
          "output_type": "execute_result",
          "data": {
            "text/plain": [
              "132.8"
            ]
          },
          "metadata": {},
          "execution_count": 55
        }
      ],
      "source": [
        "# Your code here\n",
        "def celsious(c):\n",
        "  f=(c*9/5)+32\n",
        "  return f\n",
        "celsious(56)"
      ]
    },
    {
      "cell_type": "markdown",
      "id": "acefe5e3",
      "metadata": {
        "id": "acefe5e3"
      },
      "source": [
        "### Question 15\n",
        "Write a function to check if a number is palindrome."
      ]
    },
    {
      "cell_type": "code",
      "execution_count": 60,
      "id": "b700abae",
      "metadata": {
        "colab": {
          "base_uri": "https://localhost:8080/"
        },
        "id": "b700abae",
        "outputId": "2f4be0c3-f3ee-4764-8b13-09f8f79b9157"
      },
      "outputs": [
        {
          "output_type": "execute_result",
          "data": {
            "text/plain": [
              "True"
            ]
          },
          "metadata": {},
          "execution_count": 60
        }
      ],
      "source": [
        "# Your code here\n",
        "def palind(num):\n",
        "  act_num=num\n",
        "  rev=0\n",
        "  while(num>0):\n",
        "    rem=num%10\n",
        "    rev=rev*10+rem\n",
        "    num=num//10\n",
        "  if act_num==rev:\n",
        "    return True\n",
        "  else:\n",
        "    return False\n",
        "palind(121)"
      ]
    },
    {
      "cell_type": "markdown",
      "id": "b63452cb",
      "metadata": {
        "id": "b63452cb"
      },
      "source": [
        "### Question 16\n",
        "Write a function to return all even numbers in a list."
      ]
    },
    {
      "cell_type": "code",
      "execution_count": 65,
      "id": "9d1fc968",
      "metadata": {
        "colab": {
          "base_uri": "https://localhost:8080/"
        },
        "id": "9d1fc968",
        "outputId": "c19ba8ea-a902-4d95-9af9-9ba229ba0e2a"
      },
      "outputs": [
        {
          "output_type": "execute_result",
          "data": {
            "text/plain": [
              "[2, 4, 6, 8]"
            ]
          },
          "metadata": {},
          "execution_count": 65
        }
      ],
      "source": [
        "# Your code here\n",
        "def even_list(lst):\n",
        "  lst1=[]\n",
        "  for i in lst:\n",
        "    if i % 2 == 0:\n",
        "      lst1.append(i)\n",
        "  return lst1\n",
        "ab=[1,2,3,4,5,6,7,8]\n",
        "even_list(ab)"
      ]
    },
    {
      "cell_type": "markdown",
      "id": "aca524d9",
      "metadata": {
        "id": "aca524d9"
      },
      "source": [
        "### Question 17\n",
        "Write a function to return the nth Fibonacci number."
      ]
    },
    {
      "cell_type": "code",
      "execution_count": 69,
      "id": "97dc4e87",
      "metadata": {
        "colab": {
          "base_uri": "https://localhost:8080/"
        },
        "id": "97dc4e87",
        "outputId": "511bba19-d903-4ec0-fd66-f7e67a7e8d33"
      },
      "outputs": [
        {
          "output_type": "stream",
          "name": "stdout",
          "text": [
            "0 1 1 2 3 5 8 13 21 34 "
          ]
        }
      ],
      "source": [
        "def fibonacci(n):\n",
        "    a, b = 0, 1\n",
        "    for _ in range(n):\n",
        "        print(a, end=\" \")\n",
        "        a, b = b, a + b\n",
        "\n",
        "fibonacci(10)\n"
      ]
    },
    {
      "cell_type": "markdown",
      "id": "29c847dc",
      "metadata": {
        "id": "29c847dc"
      },
      "source": [
        "### Question 18\n",
        "Write a function to calculate the average of a list."
      ]
    },
    {
      "cell_type": "code",
      "execution_count": 71,
      "id": "9adc9fd2",
      "metadata": {
        "colab": {
          "base_uri": "https://localhost:8080/"
        },
        "id": "9adc9fd2",
        "outputId": "a3fdf6ef-a2b4-40e0-c604-6c1cb199819b"
      },
      "outputs": [
        {
          "output_type": "execute_result",
          "data": {
            "text/plain": [
              "3.0"
            ]
          },
          "metadata": {},
          "execution_count": 71
        }
      ],
      "source": [
        "# Your code here\n",
        "def average(lst):\n",
        "  sum=0\n",
        "  for i in lst:\n",
        "    sum+=i\n",
        "  return sum/len(lst)\n",
        "ab=[1,2,3,4,5]\n",
        "average(ab)"
      ]
    },
    {
      "cell_type": "markdown",
      "id": "420240fb",
      "metadata": {
        "id": "420240fb"
      },
      "source": [
        "### Question 19\n",
        "Write a function that returns a dictionary of character counts."
      ]
    },
    {
      "cell_type": "code",
      "execution_count": 75,
      "id": "95cafc54",
      "metadata": {
        "colab": {
          "base_uri": "https://localhost:8080/"
        },
        "id": "95cafc54",
        "outputId": "3aff1d38-ac56-46d7-cee4-cf38ad38806b"
      },
      "outputs": [
        {
          "output_type": "execute_result",
          "data": {
            "text/plain": [
              "{'h': 1, 'e': 1, 'l': 2, 'o': 3}"
            ]
          },
          "metadata": {},
          "execution_count": 75
        }
      ],
      "source": [
        "# Your code here\n",
        "def char_count(string1):\n",
        "  count={}\n",
        "  for i in string1:\n",
        "    if i in count:\n",
        "      count[i]+=1\n",
        "    else:\n",
        "      count[i]=1\n",
        "  return count\n",
        "\n",
        "string6=\"hellooo\"\n",
        "char_count(string6)"
      ]
    },
    {
      "cell_type": "markdown",
      "id": "17629a07",
      "metadata": {
        "id": "17629a07"
      },
      "source": [
        "### Question 20\n",
        "Write a function that returns True if all list elements are unique."
      ]
    },
    {
      "cell_type": "code",
      "execution_count": 78,
      "id": "fe4f8820",
      "metadata": {
        "colab": {
          "base_uri": "https://localhost:8080/"
        },
        "id": "fe4f8820",
        "outputId": "88de701e-4bdb-43ab-dad8-47fae8645a30"
      },
      "outputs": [
        {
          "output_type": "execute_result",
          "data": {
            "text/plain": [
              "False"
            ]
          },
          "metadata": {},
          "execution_count": 78
        }
      ],
      "source": [
        "# Your code here\n",
        "def unique(lst):\n",
        "  lst1=[]\n",
        "  for i in lst:\n",
        "    if i not in lst1:\n",
        "     lst1.append(i)\n",
        "  if lst1==lst:\n",
        "    return True\n",
        "  else:\n",
        "    return False\n",
        "gh=[1,1,2,3,4]\n",
        "unique(gh)\n"
      ]
    },
    {
      "cell_type": "markdown",
      "id": "91dc87b9",
      "metadata": {
        "id": "91dc87b9"
      },
      "source": [
        "### Question 21\n",
        "Write a function that returns dot product of two list of numbers"
      ]
    },
    {
      "cell_type": "code",
      "execution_count": 87,
      "id": "87c3fa4b",
      "metadata": {
        "colab": {
          "base_uri": "https://localhost:8080/"
        },
        "id": "87c3fa4b",
        "outputId": "2e0a9541-0630-498b-8358-a7cb310eea8f"
      },
      "outputs": [
        {
          "output_type": "execute_result",
          "data": {
            "text/plain": [
              "26"
            ]
          },
          "metadata": {},
          "execution_count": 87
        }
      ],
      "source": [
        "# Your code here\n",
        "def dot_product(a,b):\n",
        "  if len(a)!=len(b):\n",
        "    return False\n",
        "  else:\n",
        "    sum=0\n",
        "    for i in range (len(a)):\n",
        "      sum+=a[i]*b[i]\n",
        "  return sum\n",
        "\n",
        "u=[1,2,3]\n",
        "h=[3,4,5]\n",
        "dot_product(u,h)"
      ]
    },
    {
      "cell_type": "markdown",
      "id": "5eeb0527",
      "metadata": {
        "id": "5eeb0527"
      },
      "source": [
        "### Question 22\n",
        "Write a function that returns the projection of vector a onto vector b. Both a and b are given as list of numbers"
      ]
    },
    {
      "cell_type": "code",
      "execution_count": 93,
      "id": "d2c2439f",
      "metadata": {
        "colab": {
          "base_uri": "https://localhost:8080/"
        },
        "id": "d2c2439f",
        "outputId": "3fcc1a7a-1934-4b06-8fd0-c8d5a85f7029"
      },
      "outputs": [
        {
          "output_type": "execute_result",
          "data": {
            "text/plain": [
              "10.198519692659746"
            ]
          },
          "metadata": {},
          "execution_count": 93
        }
      ],
      "source": [
        "# Your code here\n",
        "def mag(a):\n",
        "  sum=0\n",
        "  for i in a:\n",
        "    sum+=i**2\n",
        "  return sum**0.5\n",
        "def proj(a,b):\n",
        "  dot=dot_product(a,b)\n",
        "  magn=mag(b)\n",
        "  proj=dot/magn\n",
        "  return proj\n",
        "\n",
        "a=[5,7,8,3]\n",
        "b=[1,2,9,4]\n",
        "proj(a,b)\n"
      ]
    },
    {
      "cell_type": "markdown",
      "id": "1410b385",
      "metadata": {
        "id": "1410b385"
      },
      "source": [
        "### Question 23\n",
        "Write a function to return common elements between two lists."
      ]
    },
    {
      "cell_type": "code",
      "execution_count": 98,
      "id": "2cee584c",
      "metadata": {
        "colab": {
          "base_uri": "https://localhost:8080/"
        },
        "id": "2cee584c",
        "outputId": "be0919bb-4098-43bf-8bcb-ddd65ccdcdf7"
      },
      "outputs": [
        {
          "output_type": "execute_result",
          "data": {
            "text/plain": [
              "[1, 2, 5]"
            ]
          },
          "metadata": {},
          "execution_count": 98
        }
      ],
      "source": [
        "# Your code here\n",
        "def common(ls,ls1):\n",
        "  lst1=[]\n",
        "  for i in ls:\n",
        "    if i in ls and i in ls1 and i not in lst1:\n",
        "      lst1.append(i)\n",
        "  return lst1\n",
        "a=[1,2,3,4,5]\n",
        "b=[9,7,8,9,5,1,2]\n",
        "common(a,b)\n"
      ]
    },
    {
      "cell_type": "markdown",
      "id": "23ab5210",
      "metadata": {
        "id": "23ab5210"
      },
      "source": [
        "### Question 24\n",
        "Create a class Vector that supports addition, dot product, and magnitude."
      ]
    },
    {
      "cell_type": "code",
      "execution_count": 117,
      "id": "f6b18fd7",
      "metadata": {
        "colab": {
          "base_uri": "https://localhost:8080/"
        },
        "id": "f6b18fd7",
        "outputId": "377dd28c-ac25-46be-ea17-f53f93267f0b"
      },
      "outputs": [
        {
          "output_type": "stream",
          "name": "stdout",
          "text": [
            "Enter the first list of numbers: 4 5 6\n",
            "Enter the second list of numbers: 5 8 1\n",
            "Addition: <__main__.Vector object at 0x7f6e9a1d7dd0>\n",
            "Dot Product: 66\n",
            "Magnitude of vector1: 8.774964387392123\n",
            "Magnitude of vector2: 9.486832980505138\n"
          ]
        }
      ],
      "source": [
        "from math import sqrt\n",
        "\n",
        "class Vector:\n",
        "    def __init__(self, *components):\n",
        "        self.values = list(components)\n",
        "\n",
        "    def __add__(self, other):\n",
        "        return Vector(*[self.values[i] + other.values[i] for i in range(len(self.values))])\n",
        "\n",
        "    def dot(self, other):\n",
        "        return sum(self.values[i] * other.values[i] for i in range(len(self.values)))\n",
        "\n",
        "    def magnitude(self):\n",
        "        return sqrt(sum(i**2 for i in self.values))\n",
        "\n",
        "    def _repr_(self):\n",
        "        return f\"Vector({self.values})\"\n",
        "usr_inpt1 = input(\"Enter the first list of numbers: \")  # e.g. 1 2 3\n",
        "usr_inpt2 = input(\"Enter the second list of numbers: \") # e.g. 4 5 6\n",
        "\n",
        "num1 = list(map(int, usr_inpt1.split()))\n",
        "num2 = list(map(int, usr_inpt2.split()))\n",
        "\n",
        "vector1 = Vector(*num1)\n",
        "vector2 = Vector(*num2)\n",
        "\n",
        "print(\"Addition:\", vector1 + vector2)\n",
        "print(\"Dot Product:\", vector1.dot(vector2))\n",
        "print(\"Magnitude of vector1:\", vector1.magnitude())\n",
        "print(\"Magnitude of vector2:\", vector2.magnitude())"
      ]
    },
    {
      "cell_type": "markdown",
      "id": "a0621aba",
      "metadata": {
        "id": "a0621aba"
      },
      "source": [
        "### Question 25\n",
        "Implement a function to return all outliers in a list based on the IQR method."
      ]
    },
    {
      "cell_type": "code",
      "execution_count": 110,
      "id": "460a8994",
      "metadata": {
        "colab": {
          "base_uri": "https://localhost:8080/"
        },
        "id": "460a8994",
        "outputId": "a00be6d4-6c0b-4537-c901-2e1570f2acc1"
      },
      "outputs": [
        {
          "output_type": "execute_result",
          "data": {
            "text/plain": [
              "[100]"
            ]
          },
          "metadata": {},
          "execution_count": 110
        }
      ],
      "source": [
        "def outlier_1(data):\n",
        "    data = sorted(data)\n",
        "    n = len(data)\n",
        "    def median(lst):\n",
        "        l = len(lst)\n",
        "        mid = l // 2\n",
        "        if l % 2 == 0:\n",
        "            return (lst[mid - 1] + lst[mid]) / 2\n",
        "        else:\n",
        "            return lst[mid]\n",
        "    mid = n // 2\n",
        "    if n % 2 == 0:\n",
        "        lower_half = data[:mid]\n",
        "        upper_half = data[mid:]\n",
        "    else:\n",
        "        lower_half = data[:mid]\n",
        "        upper_half = data[mid+1:]\n",
        "    Q1 = median(lower_half)\n",
        "    Q3 = median(upper_half)\n",
        "    IQR = Q3 - Q1\n",
        "    lower_bound = Q1 - 1.5 * IQR\n",
        "    upper_bound = Q3 + 1.5 * IQR\n",
        "    outliers = [x for x in data if x < lower_bound or x > upper_bound]\n",
        "    return outliers\n",
        "\n",
        "lst=[1, 2, 5, 7, 8, 10, 10, 10, 15, 18, 100]\n",
        "outlier_1(lst)"
      ]
    },
    {
      "cell_type": "markdown",
      "id": "f0be510e",
      "metadata": {
        "id": "f0be510e"
      },
      "source": [
        "### Question 26\n",
        "Function with default arguments:\n",
        "Create a function to compute variance with an option to use sample or population formula"
      ]
    },
    {
      "cell_type": "code",
      "execution_count": 113,
      "id": "941d732d",
      "metadata": {
        "colab": {
          "base_uri": "https://localhost:8080/"
        },
        "id": "941d732d",
        "outputId": "be82931c-ba8b-49e9-dd8c-1b598fad5b62"
      },
      "outputs": [
        {
          "output_type": "execute_result",
          "data": {
            "text/plain": [
              "0.8"
            ]
          },
          "metadata": {},
          "execution_count": 113
        }
      ],
      "source": [
        "def variance(lst, sample=True):\n",
        "    n = len(lst)\n",
        "    if n == 0 or (sample and n == 1):\n",
        "        return None\n",
        "    mean = sum(lst)/n\n",
        "    for i in lst:\n",
        "      squared_diffs=[(i - mean) ** 2]\n",
        "    if sample:\n",
        "        return sum(squared_diffs)/(n - 1)\n",
        "    else:\n",
        "        return sum(squared_diffs)/n\n",
        "hj=[1,2,3,4,5]\n",
        "variance(hj,False)\n"
      ]
    },
    {
      "cell_type": "markdown",
      "id": "c39be0f1",
      "metadata": {
        "id": "c39be0f1"
      },
      "source": [
        "### Question 27\n",
        "Create a list of squares of even numbers between 1 and 20 using list comprehension."
      ]
    },
    {
      "cell_type": "code",
      "execution_count": 118,
      "id": "9e4ba74a",
      "metadata": {
        "colab": {
          "base_uri": "https://localhost:8080/"
        },
        "id": "9e4ba74a",
        "outputId": "eb1898d3-89ad-4f2f-c42f-ea42b240a0b2"
      },
      "outputs": [
        {
          "output_type": "execute_result",
          "data": {
            "text/plain": [
              "[4, 16, 36, 64, 100, 144, 196, 256, 324, 400]"
            ]
          },
          "metadata": {},
          "execution_count": 118
        }
      ],
      "source": [
        "def even_sqr():\n",
        "    a = [i**2 for i in range(1,21) if i % 2 == 0]\n",
        "    return a\n",
        "even_sqr()"
      ]
    },
    {
      "cell_type": "markdown",
      "id": "b43c266d",
      "metadata": {
        "id": "b43c266d"
      },
      "source": [
        "### Question 28\n",
        "Write a function that returns the L1 and L2 norms of a vector given as list"
      ]
    },
    {
      "cell_type": "code",
      "execution_count": 119,
      "id": "4f5dc876",
      "metadata": {
        "colab": {
          "base_uri": "https://localhost:8080/"
        },
        "id": "4f5dc876",
        "outputId": "8af55708-bd1a-4798-f499-472128e8b4d3"
      },
      "outputs": [
        {
          "output_type": "execute_result",
          "data": {
            "text/plain": [
              "(6, 8.774964387392123)"
            ]
          },
          "metadata": {},
          "execution_count": 119
        }
      ],
      "source": [
        "def norms():\n",
        "  l1 = [1, 2, 3]\n",
        "  l2 = [4, 5, 6]\n",
        "  l1_norm = sum(abs(i) for i in l1)\n",
        "  l2_norm = sum(i**2 for i in l2) ** 0.5\n",
        "  return l1_norm, l2_norm\n",
        "norms()\n"
      ]
    },
    {
      "cell_type": "markdown",
      "id": "2007915f",
      "metadata": {
        "id": "2007915f"
      },
      "source": [
        "### Question 29\n",
        "Write a function that computes the 95% confidence interval for the mean of a list of numbers assuming normal distribution."
      ]
    },
    {
      "cell_type": "code",
      "execution_count": 121,
      "id": "8634dc63",
      "metadata": {
        "colab": {
          "base_uri": "https://localhost:8080/"
        },
        "id": "8634dc63",
        "outputId": "bb783e80-36c1-44e3-8a53-05bd9c7d4f89"
      },
      "outputs": [
        {
          "output_type": "execute_result",
          "data": {
            "text/plain": [
              "1.6140707088743669"
            ]
          },
          "metadata": {},
          "execution_count": 121
        }
      ],
      "source": [
        "from statistics import stdev\n",
        "\n",
        "def normal():\n",
        "  n = [1, 2, 3, 4, 5]\n",
        "  mean = sum(n) / len(n)\n",
        "  std = stdev(n)\n",
        "  z = 1.96\n",
        "  lower_bound = mean - z * (std / (len(n) ** 0.5))\n",
        "  upper_bound = mean + z * (std / (len(n) ** 0.5))\n",
        "  return lower_bound\n",
        "  return upper_bound\n",
        "normal()"
      ]
    },
    {
      "cell_type": "markdown",
      "id": "08df3afb",
      "metadata": {
        "id": "08df3afb"
      },
      "source": [
        "### Question 30\n",
        "Given a list of categorical values, create a frequency distribution dictionary."
      ]
    },
    {
      "cell_type": "code",
      "execution_count": 123,
      "id": "c9b88531",
      "metadata": {
        "colab": {
          "base_uri": "https://localhost:8080/"
        },
        "id": "c9b88531",
        "outputId": "cdd11c23-c808-4b33-8dce-54970c2d3667"
      },
      "outputs": [
        {
          "output_type": "stream",
          "name": "stdout",
          "text": [
            "{'red': 3, 'blue': 2, 'green': 1}\n"
          ]
        }
      ],
      "source": [
        "def frequency_distribution(data):\n",
        "    freq_dict = {}\n",
        "    for item in data:\n",
        "        if item in freq_dict:\n",
        "            freq_dict[item] += 1\n",
        "        else:\n",
        "            freq_dict[item] = 1\n",
        "    return freq_dict\n",
        "colors = ['red', 'blue', 'red', 'green', 'blue', 'red']\n",
        "print(frequency_distribution(colors))"
      ]
    }
  ],
  "metadata": {
    "language_info": {
      "name": "python"
    },
    "colab": {
      "provenance": []
    },
    "kernelspec": {
      "name": "python3",
      "display_name": "Python 3"
    }
  },
  "nbformat": 4,
  "nbformat_minor": 5
}